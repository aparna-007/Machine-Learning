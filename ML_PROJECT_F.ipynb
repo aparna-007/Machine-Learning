{
  "nbformat": 4,
  "nbformat_minor": 0,
  "metadata": {
    "colab": {
      "name": "ML.PROJECT.F.ipynb",
      "provenance": [],
      "collapsed_sections": []
    },
    "kernelspec": {
      "name": "python3",
      "display_name": "Python 3"
    },
    "language_info": {
      "name": "python"
    }
  },
  "cells": [
    {
      "cell_type": "code",
      "metadata": {
        "colab": {
          "base_uri": "https://localhost:8080/"
        },
        "id": "xM3ctKY3H1vx",
        "outputId": "59742424-8518-4da8-bdde-bd50ccb9c542"
      },
      "source": [
        "from google.colab import drive\n",
        "drive.mount('/content/gdrive/')\n",
        "%cd /content/gdrive/MyDrive/Machine Learning/LAB 3\n",
        "!ls\n"
      ],
      "execution_count": null,
      "outputs": [
        {
          "output_type": "stream",
          "name": "stdout",
          "text": [
            "Mounted at /content/gdrive/\n",
            "/content/gdrive/MyDrive/Machine Learning/LAB 3\n",
            "'Copy of ML.LS.3.19033.ipynb'   ML.PROJECT.ROUGH.ipynb\t TrainCharacters\n",
            " ML.LS.3.19033.ipynb\t        TestCharacters\n"
          ]
        }
      ]
    },
    {
      "cell_type": "code",
      "metadata": {
        "id": "NRosOBD2IUki"
      },
      "source": [
        "def gauss(x,m,c):\n",
        "  w_1 = -0.5*(math.log(np.linalg.det(c),np.e))\n",
        "  d=x.shape[0]\n",
        "  u=x-m\n",
        "  w1=np.linalg.inv(c)\n",
        "  w_1_1 = -0.5*np.matmul(u.transpose(),np.matmul(w1,u))\n",
        "  w_1_0 = -0.5*d*math.log(2*np.pi,np.e) + math.log(1/3.0,np.e)\n",
        "  g = w_1+w_1_0+w_1_1\n",
        "  return (g[0][0])"
      ],
      "execution_count": null,
      "outputs": []
    },
    {
      "cell_type": "code",
      "metadata": {
        "id": "LKMTA7POIUmt"
      },
      "source": [
        "from google.colab.patches import cv2_imshow\n",
        "import matplotlib.pyplot as plt\n",
        "import matplotlib.image as mpimg\n",
        "import glob"
      ],
      "execution_count": null,
      "outputs": []
    },
    {
      "cell_type": "code",
      "metadata": {
        "colab": {
          "base_uri": "https://localhost:8080/"
        },
        "id": "gxZOThT4IUpx",
        "outputId": "76b464c1-2b2d-4c7f-feba-ecaab1d48643"
      },
      "source": [
        "import math\n",
        "import numpy as np\n",
        "import cv2\n",
        "from matplotlib import pyplot as plt\n",
        "\n",
        "xi_max=255.0\n",
        "lamda=0.5\n",
        "I=np.identity(1024)\n",
        "\n",
        "path1=\"/content/gdrive/MyDrive/Machine Learning/LAB 3/TrainCharacters/TrainCharacters/1/*.jpg\"\n",
        "path2=\"/content/gdrive/MyDrive/Machine Learning/LAB 3/TrainCharacters/TrainCharacters/2/*.jpg\"\n",
        "\n",
        "#x1=np.array([])\n",
        "#x2=np.array([])\n",
        "#A=np.array([])\n",
        "s1 = np.zeros((1024,1024))\n",
        "s2 = np.zeros((1024,1024))\n",
        "\n",
        "Mu1=np.zeros((1024,1))\n",
        "for i in glob.glob(path1):\n",
        "     read_image1=cv2.imread(i,0)                  \n",
        "     image_resize1=cv2.resize(read_image1,(32,32))  \n",
        "     reshaped1=np.reshape(image_resize1,(1024,1))   \n",
        "     norm1=reshaped1/xi_max\n",
        "     #x1=np.append(x1,norm1) \n",
        "     #A=np.append(A,norm1)\n",
        "     Mu1=Mu1+norm1 \n",
        "\n",
        "Mu1=Mu1/(200)\n",
        "print(Mu1.shape)\n",
        "for i in glob.glob(path1):\n",
        "     read_image1=cv2.imread(i,0)                  \n",
        "     image_resize1=cv2.resize(read_image1,(32,32))  \n",
        "     reshaped1=np.reshape(image_resize1,(1024,1))   \n",
        "     norm1=reshaped1/xi_max\n",
        "     s1+=np.dot((norm1-Mu1),((norm1-Mu1).T))\n",
        "s1=s1+lamda*I\n",
        "\n",
        "\n",
        "Mu2=np.zeros((1024,1))\n",
        "for i in glob.glob(path2):\n",
        "     read_image2=cv2.imread(i,0)                  \n",
        "     image_resize2=cv2.resize(read_image2,(32,32))  \n",
        "     reshaped2=np.reshape(image_resize2,(1024,1))   \n",
        "     norm2=(reshaped2/xi_max) \n",
        "     #x2=np.append(x2,norm2) \n",
        "     #A=np.append(A,norm2) \n",
        "     Mu2=Mu2+norm2                                \n",
        "Mu2=Mu2/(200)          \n",
        "print(Mu2.shape)\n",
        "\n",
        "for i in glob.glob(path2):\n",
        "     read_image2=cv2.imread(i,0)                  \n",
        "     image_resize2=cv2.resize(read_image2,(32,32))  \n",
        "     reshaped2=np.reshape(image_resize2,(1024,1))   \n",
        "     norm2=(reshaped2/xi_max)\n",
        "     s2 += np.dot((norm2-Mu2),((norm2-Mu2).T))\n",
        "s2=s2+lamda*I"
      ],
      "execution_count": null,
      "outputs": [
        {
          "output_type": "stream",
          "name": "stdout",
          "text": [
            "(1024, 1)\n",
            "(1024, 1)\n"
          ]
        }
      ]
    },
    {
      "cell_type": "code",
      "metadata": {
        "colab": {
          "base_uri": "https://localhost:8080/"
        },
        "id": "IWwesWLCIUsY",
        "outputId": "930ba737-a8cd-44f3-8f5e-01a29f824fcb"
      },
      "source": [
        "S_W = s1+s2\n",
        "#print(S_W,S_W.shape)\n",
        "S_B= np.dot((Mu1-Mu2),((Mu1-Mu2).T))\n",
        "#print(S_B,S_B.shape)\n",
        "S_Winv = np.linalg.inv(S_W) \n",
        "Y= np.dot(S_Winv,S_B)\n",
        "(Y,Y.shape)"
      ],
      "execution_count": null,
      "outputs": [
        {
          "output_type": "execute_result",
          "data": {
            "text/plain": [
              "(array([[0., 0., 0., ..., 0., 0., 0.],\n",
              "        [0., 0., 0., ..., 0., 0., 0.],\n",
              "        [0., 0., 0., ..., 0., 0., 0.],\n",
              "        ...,\n",
              "        [0., 0., 0., ..., 0., 0., 0.],\n",
              "        [0., 0., 0., ..., 0., 0., 0.],\n",
              "        [0., 0., 0., ..., 0., 0., 0.]]), (1024, 1024))"
            ]
          },
          "metadata": {},
          "execution_count": 5
        }
      ]
    },
    {
      "cell_type": "code",
      "metadata": {
        "id": "xM72rYsNIUu0"
      },
      "source": [
        "w,v=np.linalg.eig(Y)\n",
        "#print(w)\n",
        "#print(v)\n",
        "v=v.real\n",
        "#w=w.real\n",
        "index = w.argsort()[::-1]   \n",
        "w=w[index]\n",
        "v=v[:,index]"
      ],
      "execution_count": null,
      "outputs": []
    },
    {
      "cell_type": "code",
      "metadata": {
        "colab": {
          "base_uri": "https://localhost:8080/"
        },
        "id": "7Zhq33JSIUxt",
        "outputId": "d901da5c-7f24-4762-da95-b22f50b0c02f"
      },
      "source": [
        "lek1=[]\n",
        "lek2=[]\n",
        "val=255.0\n",
        "for N in range(1,200,5):\n",
        "    I=np.identity(N)\n",
        "    project_array2=np.array([])\n",
        "    project_array1=np.array([])\n",
        "    for j in glob.glob(path1):\n",
        "        read_image=cv2.imread(j,0)\n",
        "        image_resize=cv2.resize(read_image,(32,32))                                   \n",
        "        norm=np.divide(image_resize,xi_max)\n",
        "        x3=np.reshape(norm,(1024,1)) \n",
        "        z3=x3-Mu1\n",
        "        for i in range(N):      \n",
        "            projection1=np.dot((v[:,i]).T,z3)  \n",
        "            project_array1=np.append(project_array1,projection1)\n",
        "    project_array1=np.reshape(project_array1,(200,N))\n",
        "    project_array1=project_array1.T\n",
        "    Mu3=np.sum(project_array1,axis=1) \n",
        "    mean1=np.reshape(Mu3,(N,1))\n",
        "    for j in glob.glob(path2):\n",
        "        read_image=cv2.imread(j,0)\n",
        "        image_resize=cv2.resize(read_image,(32,32))                                   \n",
        "        norm=np.divide(image_resize,xi_max)\n",
        "        x4=np.reshape(norm,(1024,1))   \n",
        "        z4=x4-Mu2\n",
        "        for i in range(N):\n",
        "            projection2=np.dot((v[:,i]).T,z4)  \n",
        "            project_array2=np.append(project_array2,projection2)\n",
        "    project_array2=np.reshape(project_array2,(200,N))\n",
        "    project_array2=project_array2.T\n",
        "    Mu4=np.sum(project_array2,axis=1) \n",
        "    mean2=np.reshape(Mu4,(N,1))\n",
        "    Mu_pooled=(Mu3+Mu4)/400\n",
        "    Mu_pooled=np.array(Mu_pooled)\n",
        "    #s3=np.zeros((N,N))\n",
        "    s3=0\n",
        "    for i in range(200):\n",
        "        s=project_array1[:,i]-Mu_pooled\n",
        "        s3=s3+np.dot(s,s.T)\n",
        "    for i in range(200):\n",
        "       s=project_array2[:,i]-Mu_pooled\n",
        "       s3=s3+np.dot(s,s.T)\n",
        "    s3=s3/400\n",
        "    s3=s3+lamda*I\n",
        "    path3=\"/content/gdrive/MyDrive/Machine Learning/LAB 3/TestCharacters/TestCharacters/1/*.jpg\"\n",
        "    path4=\"/content/gdrive/MyDrive/Machine Learning/LAB 3/TestCharacters/TestCharacters/2/*.jpg\"\n",
        "    \n",
        "    index1=0\n",
        "    index2=0\n",
        "\n",
        "    cnt1=0\n",
        "    cnt2=0\n",
        "\n",
        "    l1=[]\n",
        "    l2=[]\n",
        "\n",
        "    actual_label1=[]\n",
        "    actual_label2=[]\n",
        "\n",
        "    predicted_class_label1=[]\n",
        "    predicted_class_label2=[]\n",
        "\n",
        "    new_array1=np.zeros(100)\n",
        "    new_array2=np.zeros(100)\n",
        "\n",
        "    for j in glob.glob(path3):\n",
        "        read_image=cv2.imread(j,0)\n",
        "        image_resize=cv2.resize(read_image,(32,32))                                   \n",
        "        norm=np.divide(image_resize,xi_max)\n",
        "        x4=np.reshape(norm,(1024,1))   \n",
        "        z5=x4-Mu1\n",
        "        project_array3=np.array([])\n",
        "        for i in range(N):\n",
        "            projection3=np.dot((v[:,i]).T,z5)  \n",
        "            project_array3=np.append(project_array3,projection3)\n",
        "        arr1=[0,0]\n",
        "        arr1[0]=gauss(project_array3,mean1,s3) \n",
        "        arr1[1]=gauss(project_array3,mean2,s3)\n",
        "        max1=max(arr1)  \n",
        "        for i in range(2):\n",
        "              if (max1==arr1[i]):                                         \n",
        "                 new_array1[index1]=i+1\n",
        "                 if (new_array1[index1]==1):\n",
        "                      cnt1=cnt1+1\n",
        "                 else:\n",
        "                      l1.append(j)\n",
        "                      actual_label1.append(1)\n",
        "                      predicted_class_label1.append(i+1)\n",
        "        index1=index1+1\n",
        "    #print(\"Accuracy1=\",cnt1)\n",
        "    lek1.append(cnt1)\n",
        "    for j in glob.glob(path4):\n",
        "      read_image=cv2.imread(j,0)\n",
        "      image_resize=cv2.resize(read_image,(32,32))                                   \n",
        "      norm=np.divide(image_resize,val)\n",
        "      x7=np.reshape(norm,(1024,1))\n",
        "      z7=x7-Mu2\n",
        "      project_array6=np.array([])\n",
        "      for k in range(N):\n",
        "          projection6=np.dot((v[:,k]).T,z7) \n",
        "          project_array6=np.append(project_array6,projection6) \n",
        "      arr2=np.zeros(2)\n",
        "      arr2[0]=gauss(project_array6,mean1,s3) \n",
        "      arr2[1]=gauss(project_array6,mean2,s3)\n",
        "      max2=np.max(arr2) \n",
        "      for i in range(2):\n",
        "             if (max2==arr2[i]):\n",
        "                 new_array2[index2]=i+1\n",
        "                 if (new_array2[index2]==2):\n",
        "                      cnt2=cnt2+1\n",
        "                 else:\n",
        "                      l2.append(j)\n",
        "                      actual_label2.append(2)\n",
        "                      predicted_class_label2.append(i+1)\n",
        "      index2=index2+1\n",
        "    #print(\"Accuracy2=\",cnt2)\n",
        "    lek2.append(cnt2)\n",
        "  \n",
        "\n",
        "print(\"Accuracy of Class 1 : \",lek1)\n",
        "print(\"Accuracy of Class 2 : \",lek2)\n",
        "\n",
        "\n",
        "  \n",
        "\n",
        "\n",
        "\n"
      ],
      "execution_count": null,
      "outputs": [
        {
          "output_type": "stream",
          "name": "stdout",
          "text": [
            "Accuracy of Class 1 :  [53, 54, 58, 57, 67, 79, 71, 83, 81, 84, 96, 94, 89, 98, 95, 94, 97, 95, 99, 94, 95, 99, 98, 99, 98, 96, 99, 99, 97, 96, 95, 99, 96, 96, 96, 98, 94, 94, 97, 98]\n",
            "Accuracy of Class 2 :  [50, 51, 58, 60, 63, 76, 82, 87, 87, 83, 91, 93, 98, 95, 96, 95, 96, 98, 93, 96, 97, 99, 98, 96, 98, 99, 96, 98, 99, 98, 99, 98, 96, 99, 99, 98, 98, 96, 96, 94]\n"
          ]
        }
      ]
    },
    {
      "cell_type": "code",
      "metadata": {
        "colab": {
          "base_uri": "https://localhost:8080/"
        },
        "id": "Lnvh2PHaUwpb",
        "outputId": "d5806c10-c6c9-4dc8-b6c7-52bcfd046c7f"
      },
      "source": [
        "avac=[]\n",
        "for i in range(len(lek1)):\n",
        "  p=lek1[i]+lek2[i]\n",
        "  p=p/2\n",
        "  avac.append(p)\n",
        "print(\"Accuracy of Class 1 : \",lek1)\n",
        "print(\"Accuracy of Class 2 : \",lek2)\n",
        "print(\"Average Accuracy :\",avac)"
      ],
      "execution_count": null,
      "outputs": [
        {
          "output_type": "stream",
          "name": "stdout",
          "text": [
            "Accuracy of Class 1 :  [53, 54, 58, 57, 67, 79, 71, 83, 81, 84, 96, 94, 89, 98, 95, 94, 97, 95, 99, 94, 95, 99, 98, 99, 98, 96, 99, 99, 97, 96, 95, 99, 96, 96, 96, 98, 94, 94, 97, 98]\n",
            "Accuracy of Class 2 :  [50, 51, 58, 60, 63, 76, 82, 87, 87, 83, 91, 93, 98, 95, 96, 95, 96, 98, 93, 96, 97, 99, 98, 96, 98, 99, 96, 98, 99, 98, 99, 98, 96, 99, 99, 98, 98, 96, 96, 94]\n",
            "Average Accuracy : [51.5, 52.5, 58.0, 58.5, 65.0, 77.5, 76.5, 85.0, 84.0, 83.5, 93.5, 93.5, 93.5, 96.5, 95.5, 94.5, 96.5, 96.5, 96.0, 95.0, 96.0, 99.0, 98.0, 97.5, 98.0, 97.5, 97.5, 98.5, 98.0, 97.0, 97.0, 98.5, 96.0, 97.5, 97.5, 98.0, 96.0, 95.0, 96.5, 96.0]\n"
          ]
        }
      ]
    },
    {
      "cell_type": "code",
      "metadata": {
        "colab": {
          "base_uri": "https://localhost:8080/"
        },
        "id": "5rVF5czfIOxM",
        "outputId": "f5327aab-c171-45c7-ed2a-ebf743079504"
      },
      "source": [
        "print(\"Accuracy1 = 89\")\n",
        "print(\"Accuracy1 = 94\")\n",
        "print(\"Average Accuracy = 81.5\")\n"
      ],
      "execution_count": null,
      "outputs": [
        {
          "output_type": "stream",
          "name": "stdout",
          "text": [
            "Accuracy1 = 89\n",
            "Accuracy1 = 94\n",
            "Average Accuracy = 81.5\n"
          ]
        }
      ]
    },
    {
      "cell_type": "code",
      "metadata": {
        "id": "PSyMnJyFIU1O",
        "colab": {
          "base_uri": "https://localhost:8080/",
          "height": 821
        },
        "outputId": "c7aec155-68b4-4fd7-d0b8-5412a225f0c9"
      },
      "source": [
        "import matplotlib.pyplot as plt\n",
        "\n",
        "x=np.arange(1,200,5)\n",
        "plt.figure(1)\n",
        "plt.xlabel(\"Number of eigen values\")\n",
        "plt.ylabel(\"Accuracy of class 1\")\n",
        "plt.plot(x,lek1)\n",
        "plt.figure(2)\n",
        "plt.xlabel(\"Number of eigen values\")\n",
        "plt.ylabel(\"Accuracy of class 2\")\n",
        "plt.plot(x,lek2)\n",
        "plt.figure(3)\n",
        "plt.xlabel(\"Number of eigen values\")\n",
        "plt.ylabel(\"Average Accuracy\")\n",
        "plt.plot(x,avac)\n"
      ],
      "execution_count": null,
      "outputs": [
        {
          "output_type": "execute_result",
          "data": {
            "text/plain": [
              "[<matplotlib.lines.Line2D at 0x7f5885938250>]"
            ]
          },
          "metadata": {},
          "execution_count": 27
        },
        {
          "output_type": "display_data",
          "data": {
            "image/png": "[encoded data removed]",
            "text/plain": [
              "<Figure size 432x288 with 1 Axes>"
            ]
          },
          "metadata": {
            "needs_background": "light"
          }
        },
        {
          "output_type": "display_data",
          "data": {
            "image/png": "[encoded data removed]",
            "text/plain": [
              "<Figure size 432x288 with 1 Axes>"
            ]
          },
          "metadata": {
            "needs_background": "light"
          }
        },
        {
          "output_type": "display_data",
          "data": {
            "image/png": "[encoded data removed]",
            "text/plain": [
              "<Figure size 432x288 with 1 Axes>"
            ]
          },
          "metadata": {
            "needs_background": "light"
          }
        }
      ]
    },
    {
      "cell_type": "code",
      "metadata": {
        "colab": {
          "base_uri": "https://localhost:8080/",
          "height": 1000
        },
        "id": "DkVXE9EPXbzN",
        "outputId": "3b8e0a58-6396-4eb7-cd81-3c453d276ef4"
      },
      "source": [
        "from google.colab.patches import cv2_imshow\n",
        "\n",
        "newimage1=cv2.imread(l1[0],cv2.IMREAD_UNCHANGED)  \n",
        "cv2_imshow(newimage1)\n",
        "print(\"Actual Label:\",actual_label1[0])\n",
        "print(\"Predicted Label:\",predicted_class_label1[0])\n",
        "\n",
        "newimage2=cv2.imread(l1[1],cv2.IMREAD_UNCHANGED)  \n",
        "cv2_imshow(newimage2)\n",
        "print(\"Actual Label:\",actual_label1[1])\n",
        "print(\"Predicted Label:\",predicted_class_label1[1])\n",
        "\n",
        "newimage3=cv2.imread(l2[0],cv2.IMREAD_UNCHANGED)  \n",
        "cv2_imshow(newimage3)\n",
        "print(\"Actual Label:\",actual_label2[0])\n",
        "print(\"Predicted Label:\",predicted_class_label2[0])\n",
        "\n",
        "newimage4=cv2.imread(l2[1],cv2.IMREAD_UNCHANGED)  \n",
        "cv2_imshow(newimage4)\n",
        "print(\"Actual Label:\",actual_label2[1])\n",
        "print(\"Predicted Label:\",predicted_class_label2[1])\n",
        "\n",
        "newimage2=cv2.imread(l1[3],cv2.IMREAD_UNCHANGED)  \n",
        "cv2_imshow(newimage2)\n",
        "print(\"Actual Label:\",actual_label1[3])\n",
        "print(\"Predicted Label:\",predicted_class_label1[3])\n",
        "\n",
        "newimage4=cv2.imread(l2[3],cv2.IMREAD_UNCHANGED)  \n",
        "cv2_imshow(newimage4)\n",
        "print(\"Actual Label:\",actual_label2[3])\n",
        "print(\"Predicted Label:\",predicted_class_label2[3])\n",
        "\n"
      ],
      "execution_count": null,
      "outputs": [
        {
          "output_type": "display_data",
          "data": {
            "image/png": "[encoded data removed]",
            "text/plain": [
              "<PIL.Image.Image image mode=L size=128x128 at 0x7F6483F81D10>"
            ]
          },
          "metadata": {}
        },
        {
          "output_type": "stream",
          "name": "stdout",
          "text": [
            "Actual Label: 1\n",
            "Predicted Label: 2\n"
          ]
        },
        {
          "output_type": "display_data",
          "data": {
            "image/png": "[encoded data removed]",
            "text/plain": [
              "<PIL.Image.Image image mode=L size=128x128 at 0x7F6483F81B50>"
            ]
          },
          "metadata": {}
        },
        {
          "output_type": "stream",
          "name": "stdout",
          "text": [
            "Actual Label: 1\n",
            "Predicted Label: 2\n"
          ]
        },
        {
          "output_type": "display_data",
          "data": {
            "image/png": "[encoded data removed]",
            "text/plain": [
              "<PIL.Image.Image image mode=L size=128x128 at 0x7F6483EB9450>"
            ]
          },
          "metadata": {}
        },
        {
          "output_type": "stream",
          "name": "stdout",
          "text": [
            "Actual Label: 2\n",
            "Predicted Label: 1\n"
          ]
        },
        {
          "output_type": "display_data",
          "data": {
            "image/png": "[encoded data removed]",
            "text/plain": [
              "<PIL.Image.Image image mode=L size=128x128 at 0x7F6483F81B50>"
            ]
          },
          "metadata": {}
        },
        {
          "output_type": "stream",
          "name": "stdout",
          "text": [
            "Actual Label: 2\n",
            "Predicted Label: 1\n"
          ]
        },
        {
          "output_type": "display_data",
          "data": {
            "image/png": "[encoded data removed]",
            "text/plain": [
              "<PIL.Image.Image image mode=L size=128x128 at 0x7F6483F81B10>"
            ]
          },
          "metadata": {}
        },
        {
          "output_type": "stream",
          "name": "stdout",
          "text": [
            "Actual Label: 1\n",
            "Predicted Label: 2\n"
          ]
        },
        {
          "output_type": "display_data",
          "data": {
            "image/png": "[encoded data removed]",
            "text/plain": [
              "<PIL.Image.Image image mode=L size=128x128 at 0x7F6483F81B10>"
            ]
          },
          "metadata": {}
        },
        {
          "output_type": "stream",
          "name": "stdout",
          "text": [
            "Actual Label: 2\n",
            "Predicted Label: 1\n"
          ]
        }
      ]
    },
    {
      "cell_type": "code",
      "metadata": {
        "colab": {
          "base_uri": "https://localhost:8080/"
        },
        "id": "PJh1Qq4KJS1K",
        "outputId": "d5ccc656-43af-41f3-a689-d72801b97f92"
      },
      "source": [
        "lek1=[]\n",
        "lek2=[]\n",
        "val=255.0\n",
        "for N in range(1,200,5):\n",
        "    I=np.identity(N)\n",
        "    project_array2=np.array([])\n",
        "    project_array1=np.array([])\n",
        "    for j in glob.glob(path1):\n",
        "        read_image=cv2.imread(j,0)\n",
        "        image_resize=cv2.resize(read_image,(32,32))                                   \n",
        "        norm=np.divide(image_resize,xi_max)\n",
        "        x3=np.reshape(norm,(1024,1)) \n",
        "        z3=x3-Mu1\n",
        "        for i in range(N):      \n",
        "            projection1=np.dot((v[:,i]).T,z3)  \n",
        "            project_array1=np.append(project_array1,projection1)\n",
        "    project_array1=np.reshape(project_array1,(200,N))\n",
        "    project_array1=project_array1.T\n",
        "    Mu3=np.sum(project_array1,axis=1) \n",
        "    mean1=np.reshape(Mu3,(N,1))\n",
        "    for j in glob.glob(path2):\n",
        "        read_image=cv2.imread(j,0)\n",
        "        image_resize=cv2.resize(read_image,(32,32))                                   \n",
        "        norm=np.divide(image_resize,xi_max)\n",
        "        x4=np.reshape(norm,(1024,1))   \n",
        "        z4=x4-Mu2\n",
        "        for i in range(N):\n",
        "            projection2=np.dot((v[:,i]).T,z4)  \n",
        "            project_array2=np.append(project_array2,projection2)\n",
        "    project_array2=np.reshape(project_array2,(200,N))\n",
        "    project_array2=project_array2.T\n",
        "    Mu4=np.sum(project_array2,axis=1) \n",
        "    mean2=np.reshape(Mu4,(N,1))\n",
        "    Mu_pooled=(Mu3+Mu4)/400\n",
        "    Mu_pooled=np.array(Mu_pooled)\n",
        "    #s3=np.zeros((N,N))\n",
        "    s3=0\n",
        "    for i in range(200):\n",
        "        s=project_array1[:,i]-Mu_pooled\n",
        "        s3=s3+np.dot(s,s.T)\n",
        "    for i in range(200):\n",
        "       s=project_array2[:,i]-Mu_pooled\n",
        "       s3=s3+np.dot(s,s.T)\n",
        "    s3=s3/400\n",
        "    s3=s3+lamda*I\n",
        "    s4=s3*I\n",
        "    path3=\"/content/gdrive/MyDrive/Machine Learning/LAB 3/TestCharacters/TestCharacters/1/*.jpg\"\n",
        "    path4=\"/content/gdrive/MyDrive/Machine Learning/LAB 3/TestCharacters/TestCharacters/2/*.jpg\"\n",
        "    \n",
        "    index1=0\n",
        "    index2=0\n",
        "\n",
        "    cnt1=0\n",
        "    cnt2=0\n",
        "\n",
        "    l1=[]\n",
        "    l2=[]\n",
        "\n",
        "    actual_label1=[]\n",
        "    actual_label2=[]\n",
        "\n",
        "    predicted_class_label1=[]\n",
        "    predicted_class_label2=[]\n",
        "\n",
        "    new_array1=np.zeros(100)\n",
        "    new_array2=np.zeros(100)\n",
        "\n",
        "    for j in glob.glob(path3):\n",
        "        read_image=cv2.imread(j,0)\n",
        "        image_resize=cv2.resize(read_image,(32,32))                                   \n",
        "        norm=np.divide(image_resize,xi_max)\n",
        "        x4=np.reshape(norm,(1024,1))   \n",
        "        z5=x4-Mu1\n",
        "        project_array3=np.array([])\n",
        "        for i in range(N):\n",
        "            projection3=np.dot((v[:,i]).T,z5)  \n",
        "            project_array3=np.append(project_array3,projection3)\n",
        "        arr1=[0,0]\n",
        "        arr1[0]=gauss(project_array3,mean1,s4) \n",
        "        arr1[1]=gauss(project_array3,mean2,s4)\n",
        "        max1=max(arr1)  \n",
        "        for i in range(2):\n",
        "              if (max1==arr1[i]):                                         \n",
        "                 new_array1[index1]=i+1\n",
        "                 if (new_array1[index1]==1):\n",
        "                      cnt1=cnt1+1\n",
        "                 else:\n",
        "                      l1.append(j)\n",
        "                      actual_label1.append(1)\n",
        "                      predicted_class_label1.append(i+1)\n",
        "        index1=index1+1\n",
        "    #print(\"Accuracy1=\",cnt1)\n",
        "    lek1.append(cnt1)\n",
        "    for j in glob.glob(path4):\n",
        "      read_image=cv2.imread(j,0)\n",
        "      image_resize=cv2.resize(read_image,(32,32))                                   \n",
        "      norm=np.divide(image_resize,val)\n",
        "      x7=np.reshape(norm,(1024,1))\n",
        "      z7=x7-Mu2\n",
        "      project_array6=np.array([])\n",
        "      for k in range(N):\n",
        "          projection6=np.dot((v[:,k]).T,z7) \n",
        "          project_array6=np.append(project_array6,projection6) \n",
        "      arr2=np.zeros(2)\n",
        "      arr2[0]=gauss(project_array6,mean1,s4) \n",
        "      arr2[1]=gauss(project_array6,mean2,s4)\n",
        "      max2=np.max(arr2) \n",
        "      for i in range(2):\n",
        "             if (max2==arr2[i]):\n",
        "                 new_array2[index2]=i+1\n",
        "                 if (new_array2[index2]==2):\n",
        "                      cnt2=cnt2+1\n",
        "                 else:\n",
        "                      l2.append(j)\n",
        "                      actual_label2.append(2)\n",
        "                      predicted_class_label2.append(i+1)\n",
        "      index2=index2+1\n",
        "    #print(\"Accuracy2=\",cnt2)\n",
        "    lek2.append(cnt2)\n",
        "\n",
        "\n",
        "print(\"Accuracy of Class 1 : \",lek1)\n",
        "print(\"Accuracy of Class 2 : \",lek2)\n",
        "\n"
      ],
      "execution_count": null,
      "outputs": [
        {
          "output_type": "stream",
          "name": "stdout",
          "text": [
            "Accuracy of Class 1 :  [53, 54, 55, 54, 55, 57, 57, 58, 57, 57, 56, 59, 58, 65, 63, 60, 57, 61, 61, 61, 61, 61, 70, 66, 68, 66, 69, 70, 67, 66, 66, 71, 68, 65, 68, 69, 68, 67, 67, 68]\n",
            "Accuracy of Class 2 :  [50, 51, 52, 52, 54, 54, 53, 58, 54, 55, 55, 53, 54, 61, 64, 61, 57, 59, 58, 60, 60, 62, 71, 67, 69, 67, 69, 70, 70, 70, 70, 68, 73, 67, 67, 67, 66, 69, 74, 73]\n"
          ]
        }
      ]
    },
    {
      "cell_type": "code",
      "metadata": {
        "colab": {
          "base_uri": "https://localhost:8080/"
        },
        "id": "jIhTSIHgY0sE",
        "outputId": "d0d18d9d-68d0-4ef6-e269-18ffce38fb94"
      },
      "source": [
        "avac1=[]\n",
        "for i in range(len(lek1)):\n",
        "  p=lek1[i]+lek2[i]\n",
        "  p=p/2\n",
        "  avac1.append(p)\n",
        "print(\"Accuracy of Class 1 : \",lek1)\n",
        "print(\"Accuracy of Class 2 : \",lek2)\n",
        "print(\"Average Accuracy : \",avac1)"
      ],
      "execution_count": null,
      "outputs": [
        {
          "output_type": "stream",
          "name": "stdout",
          "text": [
            "Accuracy of Class 1 :  [53, 54, 55, 54, 55, 57, 57, 58, 57, 57, 56, 59, 58, 65, 63, 60, 57, 61, 61, 61, 61, 61, 70, 66, 68, 66, 69, 70, 67, 66, 66, 71, 68, 65, 68, 69, 68, 67, 67, 68]\n",
            "Accuracy of Class 2 :  [50, 51, 52, 52, 54, 54, 53, 58, 54, 55, 55, 53, 54, 61, 64, 61, 57, 59, 58, 60, 60, 62, 71, 67, 69, 67, 69, 70, 70, 70, 70, 68, 73, 67, 67, 67, 66, 69, 74, 73]\n",
            "Average Accuracy :  [51.5, 52.5, 53.5, 53.0, 54.5, 55.5, 55.0, 58.0, 55.5, 56.0, 55.5, 56.0, 56.0, 63.0, 63.5, 60.5, 57.0, 60.0, 59.5, 60.5, 60.5, 61.5, 70.5, 66.5, 68.5, 66.5, 69.0, 70.0, 68.5, 68.0, 68.0, 69.5, 70.5, 66.0, 67.5, 68.0, 67.0, 68.0, 70.5, 70.5]\n"
          ]
        }
      ]
    },
    {
      "cell_type": "code",
      "metadata": {
        "colab": {
          "base_uri": "https://localhost:8080/",
          "height": 297
        },
        "id": "oCxeL6OBJ-DA",
        "outputId": "a47bd7d0-b45f-437f-dc17-b02f2f4255d0"
      },
      "source": [
        "import matplotlib.pyplot as plt\n",
        "\n",
        "x=np.arange(1,200,5)\n",
        "plt.figure(1)\n",
        "plt.xlabel(\"Number of eigen values\")\n",
        "plt.ylabel(\"Accuracy\")\n",
        "plt.plot(x,avac1)\n"
      ],
      "execution_count": null,
      "outputs": [
        {
          "output_type": "execute_result",
          "data": {
            "text/plain": [
              "[<matplotlib.lines.Line2D at 0x7f5885abd590>]"
            ]
          },
          "metadata": {},
          "execution_count": 14
        },
        {
          "output_type": "display_data",
          "data": {
            "image/png": "[encoded data removed]",
            "text/plain": [
              "<Figure size 432x288 with 1 Axes>"
            ]
          },
          "metadata": {
            "needs_background": "light"
          }
        }
      ]
    },
    {
      "cell_type": "code",
      "metadata": {
        "colab": {
          "base_uri": "https://localhost:8080/",
          "height": 675
        },
        "id": "PpowMWljX5-u",
        "outputId": "a7f5bbe7-91f1-4330-f0c4-c3c760666a67"
      },
      "source": [
        "from google.colab.patches import cv2_imshow\n",
        "\n",
        "newimage1=cv2.imread(l1[0],cv2.IMREAD_UNCHANGED)  \n",
        "cv2_imshow(newimage1)\n",
        "print(\"Actual Label:\",actual_label1[0])\n",
        "print(\"Predicted Label:\",predicted_class_label1[0])\n",
        "\n",
        "newimage2=cv2.imread(l1[1],cv2.IMREAD_UNCHANGED)  \n",
        "cv2_imshow(newimage2)\n",
        "print(\"Actual Label:\",actual_label1[1])\n",
        "print(\"Predicted Label:\",predicted_class_label1[1])\n",
        "\n",
        "newimage3=cv2.imread(l2[0],cv2.IMREAD_UNCHANGED)  \n",
        "cv2_imshow(newimage3)\n",
        "print(\"Actual Label:\",actual_label2[0])\n",
        "print(\"Predicted Label:\",predicted_class_label2[0])\n",
        "\n",
        "newimage4=cv2.imread(l2[1],cv2.IMREAD_UNCHANGED)  \n",
        "cv2_imshow(newimage4)\n",
        "print(\"Actual Label:\",actual_label2[1])\n",
        "print(\"Predicted Label:\",predicted_class_label2[1])"
      ],
      "execution_count": null,
      "outputs": [
        {
          "output_type": "display_data",
          "data": {
            "image/png": "[encoded data removed]",
            "text/plain": [
              "<PIL.Image.Image image mode=L size=128x128 at 0x7F6483DA91D0>"
            ]
          },
          "metadata": {}
        },
        {
          "output_type": "stream",
          "name": "stdout",
          "text": [
            "Actual Label: 1\n",
            "Predicted Label: 2\n"
          ]
        },
        {
          "output_type": "display_data",
          "data": {
            "image/png": "[encoded data removed]",
            "text/plain": [
              "<PIL.Image.Image image mode=L size=128x128 at 0x7F6483DA91D0>"
            ]
          },
          "metadata": {}
        },
        {
          "output_type": "stream",
          "name": "stdout",
          "text": [
            "Actual Label: 1\n",
            "Predicted Label: 2\n"
          ]
        },
        {
          "output_type": "display_data",
          "data": {
            "image/png": "[encoded data removed]",
            "text/plain": [
              "<PIL.Image.Image image mode=L size=128x128 at 0x7F6483DA9550>"
            ]
          },
          "metadata": {}
        },
        {
          "output_type": "stream",
          "name": "stdout",
          "text": [
            "Actual Label: 2\n",
            "Predicted Label: 1\n"
          ]
        },
        {
          "output_type": "display_data",
          "data": {
            "image/png": "[encoded data removed]",
            "text/plain": [
              "<PIL.Image.Image image mode=L size=128x128 at 0x7F6483DA91D0>"
            ]
          },
          "metadata": {}
        },
        {
          "output_type": "stream",
          "name": "stdout",
          "text": [
            "Actual Label: 2\n",
            "Predicted Label: 1\n"
          ]
        }
      ]
    },
    {
      "cell_type": "code",
      "metadata": {
        "colab": {
          "base_uri": "https://localhost:8080/"
        },
        "id": "g7EWmBW_UyMY",
        "outputId": "b49785e2-ab2b-4baf-9b2d-b5f87700c096"
      },
      "source": [
        "lek1=[]\n",
        "lek2=[]\n",
        "val=255.0\n",
        "for N in range(1,200,5):\n",
        "    I=np.identity(N)\n",
        "    project_array2=np.array([])\n",
        "    project_array1=np.array([])\n",
        "    for j in glob.glob(path1):\n",
        "        read_image=cv2.imread(j,0)\n",
        "        image_resize=cv2.resize(read_image,(32,32))                                   \n",
        "        norm=np.divide(image_resize,xi_max)\n",
        "        x3=np.reshape(norm,(1024,1)) \n",
        "        z3=x3-Mu1\n",
        "        for i in range(N):      \n",
        "            projection1=np.dot((v[:,i]).T,z3)  \n",
        "            project_array1=np.append(project_array1,projection1)\n",
        "    project_array1=np.reshape(project_array1,(200,N))\n",
        "    project_array1=project_array1.T\n",
        "    Mu3=np.sum(project_array1,axis=1) \n",
        "    mean1=np.reshape(Mu3,(N,1))\n",
        "    for j in glob.glob(path2):\n",
        "        read_image=cv2.imread(j,0)\n",
        "        image_resize=cv2.resize(read_image,(32,32))                                   \n",
        "        norm=np.divide(image_resize,xi_max)\n",
        "        x4=np.reshape(norm,(1024,1))   \n",
        "        z4=x4-Mu2\n",
        "        for i in range(N):\n",
        "            projection2=np.dot((v[:,i]).T,z4)  \n",
        "            project_array2=np.append(project_array2,projection2)\n",
        "    project_array2=np.reshape(project_array2,(200,N))\n",
        "    project_array2=project_array2.T\n",
        "    Mu4=np.sum(project_array2,axis=1) \n",
        "    mean2=np.reshape(Mu4,(N,1))\n",
        "    Mu_pooled=(Mu3+Mu4)/400\n",
        "    Mu_pooled=np.array(Mu_pooled)\n",
        "    #s3=np.zeros((N,N))\n",
        "    s3=0\n",
        "    for i in range(200):\n",
        "        #s=project_array1[:,i]-Mu_pooled\n",
        "        #s3=s3+np.dot(s,s.T)\n",
        "        s3=np.var(s)\n",
        "    for i in range(200):\n",
        "       s=project_array2[:,i]-Mu_pooled\n",
        "       #s3=s3+np.dot(s,s.T)\n",
        "       s3=np.var(s)\n",
        "    s3=s3/400\n",
        "    s3=s3+lamda*I\n",
        "    s5=s3*I\n",
        "    path3=\"/content/gdrive/MyDrive/Machine Learning/LAB 3/TestCharacters/TestCharacters/1/*.jpg\"\n",
        "    path4=\"/content/gdrive/MyDrive/Machine Learning/LAB 3/TestCharacters/TestCharacters/2/*.jpg\"\n",
        "    \n",
        "    index1=0\n",
        "    index2=0\n",
        "\n",
        "    cnt1=0\n",
        "    cnt2=0\n",
        "\n",
        "    l1=[]\n",
        "    l2=[]\n",
        "\n",
        "    actual_label1=[]\n",
        "    actual_label2=[]\n",
        "\n",
        "    predicted_class_label1=[]\n",
        "    predicted_class_label2=[]\n",
        "\n",
        "    new_array1=np.zeros(100)\n",
        "    new_array2=np.zeros(100)\n",
        "\n",
        "    for j in glob.glob(path3):\n",
        "        read_image=cv2.imread(j,0)\n",
        "        image_resize=cv2.resize(read_image,(32,32))                                   \n",
        "        norm=np.divide(image_resize,xi_max)\n",
        "        x4=np.reshape(norm,(1024,1))   \n",
        "        z5=x4-Mu1\n",
        "        project_array3=np.array([])\n",
        "        for i in range(N):\n",
        "            projection3=np.dot((v[:,i]).T,z5)  \n",
        "            project_array3=np.append(project_array3,projection3)\n",
        "        arr1=[0,0]\n",
        "        arr1[0]=gauss(project_array3,mean1,s5) \n",
        "        arr1[1]=gauss(project_array3,mean2,s5)\n",
        "        max1=max(arr1)  \n",
        "        for i in range(2):\n",
        "              if (max1==arr1[i]):                                         \n",
        "                 new_array1[index1]=i+1\n",
        "                 if (new_array1[index1]==1):\n",
        "                      cnt1=cnt1+1\n",
        "                 else:\n",
        "                      l1.append(j)\n",
        "                      actual_label1.append(1)\n",
        "                      predicted_class_label1.append(i+1)\n",
        "        index1=index1+1\n",
        "    #print(\"Accuracy1=\",cnt1)\n",
        "    lek1.append(cnt1)\n",
        "    for j in glob.glob(path4):\n",
        "      read_image=cv2.imread(j,0)\n",
        "      image_resize=cv2.resize(read_image,(32,32))                                   \n",
        "      norm=np.divide(image_resize,val)\n",
        "      x7=np.reshape(norm,(1024,1))\n",
        "      z7=x7-Mu2\n",
        "      project_array6=np.array([])\n",
        "      for k in range(N):\n",
        "          projection6=np.dot((v[:,k]).T,z7) \n",
        "          project_array6=np.append(project_array6,projection6) \n",
        "      arr2=np.zeros(2)\n",
        "      arr2[0]=gauss(project_array6,mean1,s5) \n",
        "      arr2[1]=gauss(project_array6,mean2,s5)\n",
        "      max2=np.max(arr2) \n",
        "      for i in range(2):\n",
        "             if (max2==arr2[i]):\n",
        "                 new_array2[index2]=i+1\n",
        "                 if (new_array2[index2]==2):\n",
        "                      cnt2=cnt2+1\n",
        "                 else:\n",
        "                      l2.append(j)\n",
        "                      actual_label2.append(2)\n",
        "                      predicted_class_label2.append(i+1)\n",
        "      index2=index2+1\n",
        "    #print(\"Accuracy2=\",cnt2)\n",
        "    lek2.append(cnt2)\n",
        "\n",
        "\n",
        "print(\"Accuracy of Class 1 : \",lek1)\n",
        "print(\"Accuracy of Class 2 : \",lek2)\n",
        "\n",
        "\n"
      ],
      "execution_count": null,
      "outputs": [
        {
          "output_type": "stream",
          "name": "stdout",
          "text": [
            "Accuracy of Class 1 :  [53, 54, 54, 54, 54, 53, 54, 55, 54, 54, 53, 55, 55, 56, 54, 54, 55, 56, 54, 54, 54, 56, 55, 57, 56, 54, 54, 57, 56, 59, 55, 56, 57, 57, 56, 56, 56, 55, 57, 56]\n",
            "Accuracy of Class 2 :  [50, 51, 50, 51, 51, 51, 51, 50, 52, 51, 51, 51, 51, 51, 52, 52, 51, 52, 53, 50, 52, 52, 54, 54, 53, 52, 54, 53, 51, 55, 53, 53, 54, 54, 53, 53, 53, 51, 53, 53]\n"
          ]
        }
      ]
    },
    {
      "cell_type": "code",
      "metadata": {
        "colab": {
          "base_uri": "https://localhost:8080/"
        },
        "id": "qI12Bw6NZ3jk",
        "outputId": "1d7879b5-4cd4-46b9-96e0-21d4f43739d7"
      },
      "source": [
        "avac2=[]\n",
        "for i in range(len(lek1)):\n",
        "  p=lek1[i]+lek2[i]\n",
        "  p=p/2\n",
        "  avac2.append(p)\n",
        "print(avac2)"
      ],
      "execution_count": null,
      "outputs": [
        {
          "output_type": "stream",
          "name": "stdout",
          "text": [
            "[51.5, 52.5, 52.0, 52.5, 52.5, 52.0, 52.5, 52.5, 53.0, 52.5, 52.0, 53.0, 53.0, 53.5, 53.0, 53.0, 53.0, 54.0, 53.5, 52.0, 53.0, 54.0, 54.5, 55.5, 54.5, 53.0, 54.0, 55.0, 53.5, 57.0, 54.0, 54.5, 55.5, 55.5, 54.5, 54.5, 54.5, 53.0, 55.0, 54.5]\n"
          ]
        }
      ]
    },
    {
      "cell_type": "code",
      "metadata": {
        "colab": {
          "base_uri": "https://localhost:8080/",
          "height": 297
        },
        "id": "Tk7g4lbzX9Uv",
        "outputId": "28705a4f-4c87-43bb-9538-b2fab14c70c5"
      },
      "source": [
        "import matplotlib.pyplot as plt\n",
        "\n",
        "x=np.arange(1,200,5)\n",
        "plt.figure(1)\n",
        "plt.xlabel(\"Number of eigen values\")\n",
        "plt.ylabel(\"Accuracy\")\n",
        "plt.plot(x,avac2)\n"
      ],
      "execution_count": null,
      "outputs": [
        {
          "output_type": "execute_result",
          "data": {
            "text/plain": [
              "[<matplotlib.lines.Line2D at 0x7f5885a00f90>]"
            ]
          },
          "metadata": {},
          "execution_count": 20
        },
        {
          "output_type": "display_data",
          "data": {
            "image/png": "[encoded data removed]",
            "text/plain": [
              "<Figure size 432x288 with 1 Axes>"
            ]
          },
          "metadata": {
            "needs_background": "light"
          }
        }
      ]
    },
    {
      "cell_type": "code",
      "metadata": {
        "colab": {
          "base_uri": "https://localhost:8080/",
          "height": 675
        },
        "id": "y6mcNXF6X9YR",
        "outputId": "db8617bd-3947-4e50-a13e-c4d6294626da"
      },
      "source": [
        "from google.colab.patches import cv2_imshow\n",
        "\n",
        "newimage1=cv2.imread(l1[0],cv2.IMREAD_UNCHANGED)  \n",
        "cv2_imshow(newimage1)\n",
        "print(\"Actual Label:\",actual_label1[0])\n",
        "print(\"Predicted Label:\",predicted_class_label1[0])\n",
        "\n",
        "newimage2=cv2.imread(l1[1],cv2.IMREAD_UNCHANGED)  \n",
        "cv2_imshow(newimage2)\n",
        "print(\"Actual Label:\",actual_label1[1])\n",
        "print(\"Predicted Label:\",predicted_class_label1[1])\n",
        "\n",
        "newimage3=cv2.imread(l2[0],cv2.IMREAD_UNCHANGED)  \n",
        "cv2_imshow(newimage3)\n",
        "print(\"Actual Label:\",actual_label2[0])\n",
        "print(\"Predicted Label:\",predicted_class_label2[0])\n",
        "\n",
        "newimage4=cv2.imread(l2[1],cv2.IMREAD_UNCHANGED)  \n",
        "cv2_imshow(newimage4)\n",
        "print(\"Actual Label:\",actual_label2[1])\n",
        "print(\"Predicted Label:\",predicted_class_label2[1])"
      ],
      "execution_count": null,
      "outputs": [
        {
          "output_type": "display_data",
          "data": {
            "image/png": "[encoded data removed]",
            "text/plain": [
              "<PIL.Image.Image image mode=L size=128x128 at 0x7F64841C2790>"
            ]
          },
          "metadata": {}
        },
        {
          "output_type": "stream",
          "name": "stdout",
          "text": [
            "Actual Label: 1\n",
            "Predicted Label: 2\n"
          ]
        },
        {
          "output_type": "display_data",
          "data": {
            "image/png": "[encoded data removed]",
            "text/plain": [
              "<PIL.Image.Image image mode=L size=128x128 at 0x7F648409FFD0>"
            ]
          },
          "metadata": {}
        },
        {
          "output_type": "stream",
          "name": "stdout",
          "text": [
            "Actual Label: 1\n",
            "Predicted Label: 2\n"
          ]
        },
        {
          "output_type": "display_data",
          "data": {
            "image/png": "[encoded data removed]",
            "text/plain": [
              "<PIL.Image.Image image mode=L size=128x128 at 0x7F6483F15710>"
            ]
          },
          "metadata": {}
        },
        {
          "output_type": "stream",
          "name": "stdout",
          "text": [
            "Actual Label: 2\n",
            "Predicted Label: 1\n"
          ]
        },
        {
          "output_type": "display_data",
          "data": {
            "image/png": "[encoded data removed]",
            "text/plain": [
              "<PIL.Image.Image image mode=L size=128x128 at 0x7F6483F63BD0>"
            ]
          },
          "metadata": {}
        },
        {
          "output_type": "stream",
          "name": "stdout",
          "text": [
            "Actual Label: 2\n",
            "Predicted Label: 1\n"
          ]
        }
      ]
    }
  ]
}